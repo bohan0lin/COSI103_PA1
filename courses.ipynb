{
 "cells": [
  {
   "cell_type": "markdown",
   "metadata": {},
   "source": [
    "# Courses Demo\n",
    "This Jupyter notebook is for exploring the data set courses20-21.json\n",
    "which consists of all Brandeis courses in the 20-21 academic year (Fall20, Spr21, Sum21) \n",
    "which had at least 1 student enrolled.\n",
    "\n",
    "First we need to read the json file into a list of Python dictionaries"
   ]
  },
  {
   "cell_type": "code",
   "execution_count": null,
   "metadata": {},
   "outputs": [],
   "source": [
    "import json\n",
    "import statistics"
   ]
  },
  {
   "cell_type": "code",
   "execution_count": null,
   "metadata": {},
   "outputs": [],
   "source": [
    "with open(\"courses20-21.json\",\"r\",encoding='utf-8') as jsonfile:\n",
    "    courses = json.load(jsonfile)"
   ]
  },
  {
   "cell_type": "markdown",
   "metadata": {},
   "source": [
    "## Structure of a course\n",
    "Next we look at the fields of each course dictionary and their values"
   ]
  },
  {
   "cell_type": "code",
   "execution_count": null,
   "metadata": {},
   "outputs": [],
   "source": [
    "print('there are',len(courses),'courses in the dataset')\n",
    "print('here is the data for course 1246')\n",
    "courses[1246]"
   ]
  },
  {
   "cell_type": "markdown",
   "metadata": {},
   "source": [
    "## Cleaning the data\n",
    "If we want to sort courses by instructor or by code, we need to replace the lists with tuples (which are immutable lists)"
   ]
  },
  {
   "cell_type": "code",
   "execution_count": null,
   "metadata": {},
   "outputs": [],
   "source": [
    "for course in courses:\n",
    "        course['instructor'] = tuple(course['instructor'])\n",
    "        course['coinstructors'] = tuple([tuple(f) for f in course['coinstructors']])\n",
    "        course['code']= tuple(course['code'])"
   ]
  },
  {
   "cell_type": "code",
   "execution_count": null,
   "metadata": {},
   "outputs": [],
   "source": [
    "print('notice that the instructor and code are tuples now')\n",
    "courses[1246]"
   ]
  },
  {
   "cell_type": "markdown",
   "metadata": {},
   "source": [
    "# Exploring the data set\n",
    "Now we will show how to use straight python to explore the data set and answer some interesting questions. Next week we will start learning Pandas/Numpy which are packages that make it easier to explore large dataset efficiently.\n",
    "\n",
    "Here are some questions we can try to asnwer:\n",
    "* what are all of the subjects of courses (e.g. COSI, MATH, JAPN, PHIL, ...)\n",
    "* which terms are represented?\n",
    "* how many instructors taught at Brandeis last year?\n",
    "* what were the five largest course sections?\n",
    "* what were the five largest courses (where we combine sections)?\n",
    "* which are the five largest subjects measured by number of courses offered?\n",
    "* which are the five largest courses measured by number of students taught?\n",
    "* which course had the most sections taught in 20-21?\n",
    "* who are the top five faculty in terms of number of students taught?\n",
    "* etc."
   ]
  },
  {
   "cell_type": "code",
   "execution_count": null,
   "metadata": {},
   "outputs": [],
   "source": [
    "#A. how many faculty taught COSI courses last year\n",
    "\n",
    "len({course['instructor'] for course in courses if course['subject']=='COSI'})"
   ]
  },
  {
   "cell_type": "code",
   "execution_count": null,
   "metadata": {},
   "outputs": [],
   "source": [
    "#B. what is the total number of students taking COSI courses last year?\n",
    "\n",
    "cosi=[course['enrolled'] for course in courses if course['subject']==\"COSI\"]\n",
    "\n",
    "sum(cosi)\n",
    "\n"
   ]
  },
  {
   "cell_type": "code",
   "execution_count": null,
   "metadata": {},
   "outputs": [],
   "source": [
    "#C. what was the median size of a COSI course last year (counting only those courses with at least 10 students)\n",
    "\n",
    "cosi=[course['enrolled'] for course in courses if course['subject']==\"COSI\" and course['enrolled'] >= 10]\n",
    "\n",
    "\n",
    "statistics.median(cosi)"
   ]
  },
  {
   "cell_type": "code",
   "execution_count": null,
   "metadata": {},
   "outputs": [],
   "source": [
    "#D. create a list of tuples (E,S) where S is a subject and E is the number of students enrolled in courses in that \n",
    "#   subject, sort it and print the top 10. This shows the top 10 subjects in terms of number of students taught.\n",
    "\n",
    "subject = [course['subject'] for course in courses]\n",
    "\n",
    "'''initialize a new dictionary'''\n",
    "new_dict = dict.fromkeys(subject, 0)\n",
    "\n",
    "'''record the number of students enrolled in the subject'''\n",
    "for course in courses:\n",
    "    new_dict[course['subject']] += course['enrolled']\n",
    "\n",
    "'''making the dictionary to a list of tuples (E, S) where S is a subject and E is the number of students enrolled in\n",
    " courses in that subject'''\n",
    "students_in_subjects = (list(new_dict.items()))\n",
    "\n",
    "'''sorting the list by the number of students enrolled in the subject'''\n",
    "top_10 = sorted(students_in_subjects, key = lambda x: x[1], reverse = True)[:10]\n",
    "\n",
    "for course in top_10:\n",
    "    print(course)"
   ]
  },
  {
   "cell_type": "code",
   "execution_count": null,
   "metadata": {},
   "outputs": [],
   "source": [
    "#E. do the same as in (d) but print the top 10 subjects in terms of number of courses offered\n",
    "\n",
    "subject = [course['subject'] for course in courses]\n",
    "\n",
    "new_dict = dict.fromkeys(subject, 0)\n",
    "\n",
    "'''record the number of courses offered in that subject'''\n",
    "for course in courses:\n",
    "    new_dict[course['subject']] += 1\n",
    "\n",
    "courses_in_subjects = (list(new_dict.items()))\n",
    "\n",
    "'''sorting the list by the number of courses offered in the subject'''\n",
    "top_10 = sorted(courses_in_subjects, key = lambda x: x[1], reverse = True)[:10]\n",
    "\n",
    "for course in top_10:\n",
    "    print(course)"
   ]
  },
  {
   "cell_type": "code",
   "execution_count": null,
   "metadata": {},
   "outputs": [],
   "source": [
    "#F. do the same as (d) but print the top 10 subjects in terms of number of faculty teaching courses in that subject\n",
    "\n",
    "subject = [course['subject'] for course in courses]\n",
    "\n",
    "new_dict = dict.fromkeys(subject,0)\n",
    "\n",
    "'''record the number of faculty teaching courses in that subject'''\n",
    "for subject_item in new_dict:\n",
    "    new_dict[subject_item]+=len({course['instructor'] for course in courses if course['subject']==subject_item})\n",
    "    \n",
    "courses_in_subjects = (list(new_dict.items()))\n",
    "\n",
    "'''sorting the list by the number of courses offered in the subject'''\n",
    "top_10 = sorted(courses_in_subjects, key = lambda x: x[1], reverse = True)[:10]\n",
    "\n",
    "for course in top_10:\n",
    "    print(course)"
   ]
  },
  {
   "cell_type": "code",
   "execution_count": null,
   "metadata": {},
   "outputs": [],
   "source": [
    "#G. list the top 20 faculty in terms of number of students they taught\n",
    "\n",
    "instructor = (course['instructor'] for course in courses) \n",
    "\n",
    "new_dict = dict.fromkeys(instructor, 0)\n",
    "\n",
    "for course in courses:\n",
    "    new_dict[course['instructor']] += course['enrolled'] \n",
    "\n",
    "top_20 = sorted(new_dict.items(), key = lambda x: x[1], reverse = True)[:20]\n",
    "\n",
    "for course in top_20:\n",
    "    print (course[0])"
   ]
  },
  {
   "cell_type": "code",
   "execution_count": null,
   "metadata": {},
   "outputs": [],
   "source": [
    "# H. list the top 20 courses in terms of number of students taking that course (where you \n",
    "#    combine different sections and semesters, i.e. just use the subject and course number\n",
    "\n",
    "code = (course['code'] for course in courses)\n",
    "\n",
    "new_dict = dict.fromkeys(code, 0)\n",
    "\n",
    "for course in courses:\n",
    "    new_dict[course['code']] += course['enrolled']\n",
    "\n",
    "top_20 = sorted(new_dict.items(), key = lambda x: x[1], reverse = True)[:20]\n",
    "\n",
    "for course in top_20:\n",
    "    print(course[0])"
   ]
  },
  {
   "cell_type": "code",
   "execution_count": null,
   "metadata": {},
   "outputs": [],
   "source": [
    "#I. Create your own interesting question (each team member creates their own) and use Python\n",
    "#   to answer that question.\n",
    "#\n",
    "#   The top 10 courses mearsured by the number of students in the waiting list -- Bohan \n",
    "\n",
    "top_10 = sorted(courses, key = lambda x: x['waiting'], reverse = True)[:10]\n",
    "for course in top_10:\n",
    "    print(course['code'])"
   ]
  },
  {
   "cell_type": "code",
   "execution_count": null,
   "metadata": {},
   "outputs": [],
   "source": [
    "#    list the top 10 faculty in terms of number of courses they taught -- Charlotte \n",
    "\n",
    "instructor = [course['instructor'] for course in courses]\n",
    "\n",
    "new_dict = dict.fromkeys(instructor,0)\n",
    "\n",
    "'''record the number of course taught by certain instructor'''\n",
    "for course in courses:\n",
    "    new_dict[course['instructor']]+=1\n",
    "    \n",
    "instructor_course_num = (list(new_dict.items()))\n",
    "\n",
    "'''sorting the list by the number of courses taught by the instructor'''\n",
    "top_10 = sorted(instructor_course_num, key = lambda x: x[1], reverse = True)[:10]\n",
    "\n",
    "for course in top_10:\n",
    "    print(course)"
   ]
  },
  {
   "cell_type": "code",
   "execution_count": null,
   "metadata": {},
   "outputs": [],
   "source": [
    "## i: how many faculty taught Math courses last year(unique)?(part i)\n",
    "\n",
    "len({course['instructor'] for course in courses if course['subject']=='MATH'})\n",
    "\n"
   ]
  },
  {
   "cell_type": "markdown",
   "metadata": {},
   "source": [
    "## This is a markdown file"
   ]
  }
 ],
 "metadata": {
  "kernelspec": {
   "display_name": "Python 3",
   "language": "python",
   "name": "python3"
  },
  "language_info": {
   "codemirror_mode": {
    "name": "ipython",
    "version": 3
   },
   "file_extension": ".py",
   "mimetype": "text/x-python",
   "name": "python",
   "nbconvert_exporter": "python",
   "pygments_lexer": "ipython3",
   "version": "3.8.3"
  }
 },
 "nbformat": 4,
 "nbformat_minor": 4
}
