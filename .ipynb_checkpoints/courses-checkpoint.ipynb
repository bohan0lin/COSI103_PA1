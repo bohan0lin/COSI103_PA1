{
 "cells": [
  {
   "cell_type": "markdown",
   "metadata": {},
   "source": [
    "# Courses Demo\n",
    "This Jupyter notebook is for exploring the data set courses20-21.json\n",
    "which consists of all Brandeis courses in the 20-21 academic year (Fall20, Spr21, Sum21) \n",
    "which had at least 1 student enrolled.\n",
    "\n",
    "First we need to read the json file into a list of Python dictionaries"
   ]
  },
  {
   "cell_type": "code",
   "execution_count": 1,
   "metadata": {},
   "outputs": [],
   "source": [
    "import json\n",
    "import statistics"
   ]
  },
  {
   "cell_type": "code",
   "execution_count": 2,
   "metadata": {},
   "outputs": [],
   "source": [
    "with open(\"courses20-21.json\",\"r\",encoding='utf-8') as jsonfile:\n",
    "    courses = json.load(jsonfile)"
   ]
  },
  {
   "cell_type": "markdown",
   "metadata": {},
   "source": [
    "## Structure of a course\n",
    "Next we look at the fields of each course dictionary and their values"
   ]
  },
  {
   "cell_type": "code",
   "execution_count": 3,
   "metadata": {},
   "outputs": [
    {
     "name": "stdout",
     "output_type": "stream",
     "text": [
      "there are 7813 courses in the dataset\n",
      "here is the data for course 1246\n"
     ]
    },
    {
     "data": {
      "text/plain": [
       "{'limit': 28,\n",
       " 'times': [{'start': 1080, 'end': 1170, 'days': ['w', 'm']}],\n",
       " 'enrolled': 4,\n",
       " 'details': 'Instruction for this course will be offered remotely. Meeting times for this course are listed in the schedule of classes (in ET).',\n",
       " 'type': 'section',\n",
       " 'status_text': 'Open',\n",
       " 'section': '1',\n",
       " 'waiting': 0,\n",
       " 'instructor': ['An', 'Huang', 'anhuang@brandeis.edu'],\n",
       " 'coinstructors': [],\n",
       " 'code': ['MATH', '223A'],\n",
       " 'subject': 'MATH',\n",
       " 'coursenum': '223A',\n",
       " 'name': 'Lie Algebras: Representation Theory',\n",
       " 'independent_study': False,\n",
       " 'term': '1203',\n",
       " 'description': \"Theorems of Engel and Lie. Semisimple Lie algebras, Cartan's criterion. Universal enveloping algebras, PBW theorem, Serre's construction. Representation theory. Other topics as time permits. Usually offered every second year.\\nAn Huang\"}"
      ]
     },
     "execution_count": 3,
     "metadata": {},
     "output_type": "execute_result"
    }
   ],
   "source": [
    "print('there are',len(courses),'courses in the dataset')\n",
    "print('here is the data for course 1246')\n",
    "courses[1246]"
   ]
  },
  {
   "cell_type": "markdown",
   "metadata": {},
   "source": [
    "## Cleaning the data\n",
    "If we want to sort courses by instructor or by code, we need to replace the lists with tuples (which are immutable lists)"
   ]
  },
  {
   "cell_type": "code",
   "execution_count": 4,
   "metadata": {},
   "outputs": [],
   "source": [
    "for course in courses:\n",
    "        course['instructor'] = tuple(course['instructor'])\n",
    "        course['coinstructors'] = tuple([tuple(f) for f in course['coinstructors']])\n",
    "        course['code']= tuple(course['code'])"
   ]
  },
  {
   "cell_type": "code",
   "execution_count": 5,
   "metadata": {},
   "outputs": [
    {
     "name": "stdout",
     "output_type": "stream",
     "text": [
      "notice that the instructor and code are tuples now\n"
     ]
    },
    {
     "data": {
      "text/plain": [
       "{'limit': 28,\n",
       " 'times': [{'start': 1080, 'end': 1170, 'days': ['w', 'm']}],\n",
       " 'enrolled': 4,\n",
       " 'details': 'Instruction for this course will be offered remotely. Meeting times for this course are listed in the schedule of classes (in ET).',\n",
       " 'type': 'section',\n",
       " 'status_text': 'Open',\n",
       " 'section': '1',\n",
       " 'waiting': 0,\n",
       " 'instructor': ('An', 'Huang', 'anhuang@brandeis.edu'),\n",
       " 'coinstructors': (),\n",
       " 'code': ('MATH', '223A'),\n",
       " 'subject': 'MATH',\n",
       " 'coursenum': '223A',\n",
       " 'name': 'Lie Algebras: Representation Theory',\n",
       " 'independent_study': False,\n",
       " 'term': '1203',\n",
       " 'description': \"Theorems of Engel and Lie. Semisimple Lie algebras, Cartan's criterion. Universal enveloping algebras, PBW theorem, Serre's construction. Representation theory. Other topics as time permits. Usually offered every second year.\\nAn Huang\"}"
      ]
     },
     "execution_count": 5,
     "metadata": {},
     "output_type": "execute_result"
    }
   ],
   "source": [
    "print('notice that the instructor and code are tuples now')\n",
    "courses[1246]"
   ]
  },
  {
   "cell_type": "markdown",
   "metadata": {},
   "source": [
    "# Exploring the data set\n",
    "Now we will show how to use straight python to explore the data set and answer some interesting questions. Next week we will start learning Pandas/Numpy which are packages that make it easier to explore large dataset efficiently.\n",
    "\n",
    "Here are some questions we can try to asnwer:\n",
    "* what are all of the subjects of courses (e.g. COSI, MATH, JAPN, PHIL, ...)\n",
    "* which terms are represented?\n",
    "* how many instructors taught at Brandeis last year?\n",
    "* what were the five largest course sections?\n",
    "* what were the five largest courses (where we combine sections)?\n",
    "* which are the five largest subjects measured by number of courses offered?\n",
    "* which are the five largest courses measured by number of students taught?\n",
    "* which course had the most sections taught in 20-21?\n",
    "* who are the top five faculty in terms of number of students taught?\n",
    "* etc."
   ]
  },
  {
   "cell_type": "code",
   "execution_count": 6,
   "metadata": {},
   "outputs": [
    {
     "data": {
      "text/plain": [
       "27"
      ]
     },
     "execution_count": 6,
     "metadata": {},
     "output_type": "execute_result"
    }
   ],
   "source": [
    "#A. how many faculty taught COSI courses last year\n",
    "\n",
    "len({course['instructor'] for course in courses if course['subject']=='COSI'})"
   ]
  },
  {
   "cell_type": "code",
   "execution_count": 7,
   "metadata": {},
   "outputs": [
    {
     "data": {
      "text/plain": [
       "1950"
      ]
     },
     "execution_count": 7,
     "metadata": {},
     "output_type": "execute_result"
    }
   ],
   "source": [
    "#B. what is the total number of students taking COSI courses last year?\n",
    "\n",
    "sum({course['enrolled'] for course in courses if course['subject']=='COSI'})"
   ]
  },
  {
   "cell_type": "code",
   "execution_count": 9,
   "metadata": {},
   "outputs": [
    {
     "data": {
      "text/plain": [
       "45.5"
      ]
     },
     "execution_count": 9,
     "metadata": {},
     "output_type": "execute_result"
    }
   ],
   "source": [
    "#C. what was the median size of a COSI course last year (counting only those courses with at least 10 students)\n",
    "\n",
    "statistics.median({course['enrolled'] for course in courses if course['subject']=='COSI' if course['enrolled'] >= 10})"
   ]
  },
  {
   "cell_type": "code",
   "execution_count": 10,
   "metadata": {},
   "outputs": [
    {
     "name": "stdout",
     "output_type": "stream",
     "text": [
      "('HS', 5318)\n",
      "('BIOL', 3085)\n",
      "('BUS', 2766)\n",
      "('HWL', 2734)\n",
      "('CHEM', 2322)\n",
      "('ECON', 2315)\n",
      "('COSI', 2223)\n",
      "('MATH', 1785)\n",
      "('PSYC', 1704)\n",
      "('ANTH', 1144)\n"
     ]
    }
   ],
   "source": [
    "#D. create a list of tuples (E,S) where S is a subject and E is the number of students enrolled in courses in that \n",
    "#   subject, sort it and print the top 10. This shows the top 10 subjects in terms of number of students taught.\n",
    "\n",
    "subject = [course['subject'] for course in courses]\n",
    "\n",
    "'''initialize a new dictionary'''\n",
    "new_dict = dict.fromkeys(subject, 0)\n",
    "\n",
    "'''record the number of students enrolled in the subject'''\n",
    "for course in courses:\n",
    "    new_dict[course['subject']] += course['enrolled']\n",
    "\n",
    "'''making the dictionary to a list of tuples (E, S) where S is a subject and E is the number of students enrolled in\n",
    " courses in that subject'''\n",
    "students_in_subjects = (list(new_dict.items()))\n",
    "\n",
    "'''sorting the list by the number of students enrolled in the subject'''\n",
    "top_10 = sorted(students_in_subjects, key = lambda x: x[1], reverse = True)[:10]\n",
    "\n",
    "for course in top_10:\n",
    "    print(course)"
   ]
  },
  {
   "cell_type": "code",
   "execution_count": 11,
   "metadata": {},
   "outputs": [
    {
     "name": "stdout",
     "output_type": "stream",
     "text": [
      "('BIOL', 613)\n",
      "('HIST', 498)\n",
      "('PSYC', 417)\n",
      "('NEUR', 403)\n",
      "('BCHM', 296)\n",
      "('PHYS', 288)\n",
      "('HS', 274)\n",
      "('COSI', 272)\n",
      "('MUS', 266)\n",
      "('ENG', 265)\n"
     ]
    }
   ],
   "source": [
    "#E. do the same as in (d) but print the top 10 subjects in terms of number of courses offered\n",
    "\n",
    "subject = [course['subject'] for course in courses]\n",
    "\n",
    "new_dict = dict.fromkeys(subject, 0)\n",
    "\n",
    "'''record the number of courses offered in that subject'''\n",
    "for course in courses:\n",
    "    new_dict[course['subject']] += 1\n",
    "\n",
    "courses_in_subjects = (list(new_dict.items()))\n",
    "\n",
    "'''sorting the list by the number of courses offered in the subject'''\n",
    "top_10 = sorted(courses_in_subjects, key = lambda x: x[1], reverse = True)[:10]\n",
    "\n",
    "for course in top_10:\n",
    "    print(course)"
   ]
  },
  {
   "cell_type": "code",
   "execution_count": 19,
   "metadata": {},
   "outputs": [
    {
     "name": "stdout",
     "output_type": "stream",
     "text": [
      "('HS', 87)\n",
      "('BIOL', 67)\n",
      "('ECON', 52)\n",
      "('BCHM', 49)\n",
      "('BUS', 47)\n",
      "('HIST', 47)\n",
      "('BCBP', 46)\n",
      "('HWL', 42)\n",
      "('MATH', 37)\n",
      "('NEJS', 37)\n"
     ]
    }
   ],
   "source": [
    "#F. do the same as (d) but print the top 10 subjects in terms of number of faculty teaching courses in that subject\n",
    "\n",
    "subject = [course['subject'] for course in courses]\n",
    "\n",
    "new_dict = dict.fromkeys(subject,0)\n",
    "\n",
    "'''record the number of faculty teaching courses in that subject'''\n",
    "for subject_item in new_dict:\n",
    "    new_dict[subject_item]+=len({course['instructor'] for course in courses if course['subject']==subject_item})\n",
    "    \n",
    "courses_in_subjects = (list(new_dict.items()))\n",
    "\n",
    "'''sorting the list by the number of courses offered in the subject'''\n",
    "top_10 = sorted(courses_in_subjects, key = lambda x: x[1], reverse = True)[:10]\n",
    "\n",
    "for course in top_10:\n",
    "    print(course)"
   ]
  },
  {
   "cell_type": "code",
   "execution_count": 20,
   "metadata": {},
   "outputs": [
    {
     "name": "stdout",
     "output_type": "stream",
     "text": [
      "('Leah', 'Berkenwald', 'leahb@brandeis.edu')\n",
      "('Kene Nathan', 'Piasta', 'kpiasta@brandeis.edu')\n",
      "('Stephanie', 'Murray', 'murray@brandeis.edu')\n",
      "('Milos', 'Dolnik', 'dolnik@brandeis.edu')\n",
      "('Maria', 'de Boef Miara', 'mmiara@brandeis.edu')\n",
      "('Bryan', 'Ingoglia', 'ingoglia@brandeis.edu')\n",
      "('Rachel V.E.', 'Woodruff', 'woodruff@brandeis.edu')\n",
      "('Timothy J', 'Hickey', 'tjhickey@brandeis.edu')\n",
      "('Daniel', 'Breen', 'dbreen91@brandeis.edu')\n",
      "('Melissa', 'Kosinski-Collins', 'kosinski@brandeis.edu')\n",
      "('Claudia', 'Novack', 'novack@brandeis.edu')\n",
      "('Antonella', 'DiLillo', 'dilant@brandeis.edu')\n",
      "('Jon', 'Chilingerian', 'chilinge@brandeis.edu')\n",
      "('Ahmad', 'Namini', 'anamini@brandeis.edu')\n",
      "('Iraklis', 'Tsekourakis', 'tsekourakis@brandeis.edu')\n",
      "('Geoffrey', 'Clarke', 'geoffclarke@brandeis.edu')\n",
      "('Peter', 'Mistark', 'pmistark@brandeis.edu')\n",
      "('Brenda', 'Anderson', 'banders@brandeis.edu')\n",
      "('Colleen', 'Hitchcock', 'hitchcock@brandeis.edu')\n",
      "('Scott A.', 'Redenius', 'redenius@brandeis.edu')\n"
     ]
    }
   ],
   "source": [
    "#G. list the top 20 faculty in terms of number of students they taught\n",
    "\n",
    "instructor = (course['instructor'] for course in courses) \n",
    "\n",
    "new_dict = dict.fromkeys(instructor, 0)\n",
    "\n",
    "for course in courses:\n",
    "    new_dict[course['instructor']] += course['enrolled'] \n",
    "\n",
    "top_20 = sorted(new_dict.items(), key = lambda x: x[1], reverse = True)[:20]\n",
    "\n",
    "for course in top_20:\n",
    "    print (course[0])"
   ]
  },
  {
   "cell_type": "code",
   "execution_count": 21,
   "metadata": {},
   "outputs": [
    {
     "name": "stdout",
     "output_type": "stream",
     "text": [
      "('HWL', '1')\n",
      "('HWL', '1-PRE')\n",
      "('BIOL', '14A')\n",
      "('COSI', '10A')\n",
      "('PSYC', '10A')\n",
      "('BIOL', '15B')\n",
      "('MATH', '10A')\n",
      "('BIOL', '18B')\n",
      "('BIOL', '18A')\n",
      "('CHEM', '29A')\n",
      "('CHEM', '29B')\n",
      "('CHEM', '25A')\n",
      "('PSYC', '51A')\n",
      "('CHEM', '25B')\n",
      "('COSI', '12B')\n",
      "('BUS', '6A')\n",
      "('CHEM', '18A')\n",
      "('ECON', '10A')\n",
      "('MATH', '15A')\n",
      "('ANTH', '1A')\n"
     ]
    }
   ],
   "source": [
    "# H. list the top 20 courses in terms of number of students taking that course (where you \n",
    "#    combine different sections and semesters, i.e. just use the subject and course number\n",
    "\n",
    "code = (course['code'] for course in courses)\n",
    "\n",
    "new_dict = dict.fromkeys(code, 0)\n",
    "\n",
    "for course in courses:\n",
    "    new_dict[course['code']] += course['enrolled']\n",
    "\n",
    "top_20 = sorted(new_dict.items(), key = lambda x: x[1], reverse = True)[:20]\n",
    "\n",
    "for course in top_20:\n",
    "    print(course[0])"
   ]
  },
  {
   "cell_type": "code",
   "execution_count": 22,
   "metadata": {},
   "outputs": [
    {
     "name": "stdout",
     "output_type": "stream",
     "text": [
      "('BIOL', '51A')\n",
      "('NPSY', '22B')\n",
      "('HWL', '14')\n",
      "('HWL', '12')\n",
      "('BIOL', '51A')\n",
      "('MATH', '8A')\n",
      "('BIOL', '43B')\n",
      "('BIOL', '43B')\n",
      "('PHIL', '23B')\n",
      "('BIOL', '43B')\n"
     ]
    }
   ],
   "source": [
    "#I. Create your own interesting question (each team member creates their own) and use Python\n",
    "#   to answer that question.\n",
    "#\n",
    "#   The top 10 courses mearsured by the number of students in the waiting list -- Bohan \n",
    "\n",
    "top_10 = sorted(courses, key = lambda x: x['waiting'], reverse = True)[:10]\n",
    "for course in top_10:\n",
    "    print(course['code'])"
   ]
  },
  {
   "cell_type": "code",
   "execution_count": null,
   "metadata": {},
   "outputs": [],
   "source": []
  }
 ],
 "metadata": {
  "kernelspec": {
   "display_name": "Python 3",
   "language": "python",
   "name": "python3"
  },
  "language_info": {
   "codemirror_mode": {
    "name": "ipython",
    "version": 3
   },
   "file_extension": ".py",
   "mimetype": "text/x-python",
   "name": "python",
   "nbconvert_exporter": "python",
   "pygments_lexer": "ipython3",
   "version": "3.8.8"
  }
 },
 "nbformat": 4,
 "nbformat_minor": 4
}
